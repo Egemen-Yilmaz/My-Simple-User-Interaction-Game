{
 "cells": [
  {
   "cell_type": "code",
   "execution_count": 1,
   "id": "39f24376",
   "metadata": {},
   "outputs": [],
   "source": [
    "game_list = [0,1,2]"
   ]
  },
  {
   "cell_type": "code",
   "execution_count": 2,
   "id": "515d5953",
   "metadata": {},
   "outputs": [],
   "source": [
    "def display_game(game_list):\n",
    "    print(\"Here is the current list: \")\n",
    "    print(game_list)"
   ]
  },
  {
   "cell_type": "code",
   "execution_count": 3,
   "id": "1394536f",
   "metadata": {},
   "outputs": [
    {
     "name": "stdout",
     "output_type": "stream",
     "text": [
      "Here is the current list: \n",
      "[0, 1, 2]\n"
     ]
    }
   ],
   "source": [
    "display_game(game_list)"
   ]
  },
  {
   "cell_type": "code",
   "execution_count": 4,
   "id": "2241e773",
   "metadata": {},
   "outputs": [],
   "source": [
    "def position_choice():\n",
    "    \n",
    "    choice = 'wrong'\n",
    "    \n",
    "    while choice not in ['0','1','2']:\n",
    "        \n",
    "        choice = input(\"Pick a position (0,1,2): \")\n",
    "        \n",
    "        if choice not in ['0','1','2']:\n",
    "            print(\"Sorry, invalid choice\")\n",
    "            \n",
    "    return int(choice)"
   ]
  },
  {
   "cell_type": "code",
   "execution_count": 5,
   "id": "6d84b27e",
   "metadata": {},
   "outputs": [
    {
     "name": "stdout",
     "output_type": "stream",
     "text": [
      "Pick a position (0,1,2): d\n",
      "Sorry, invalid choice\n",
      "Pick a position (0,1,2): 6\n",
      "Sorry, invalid choice\n",
      "Pick a position (0,1,2): 2\n"
     ]
    },
    {
     "data": {
      "text/plain": [
       "2"
      ]
     },
     "execution_count": 5,
     "metadata": {},
     "output_type": "execute_result"
    }
   ],
   "source": [
    "position_choice()"
   ]
  },
  {
   "cell_type": "code",
   "execution_count": 6,
   "id": "2c66e826",
   "metadata": {},
   "outputs": [],
   "source": [
    "def replacement_choice(game_list,position):\n",
    "    \n",
    "    user_placement = input(\"Type a string to place at position: \")\n",
    "    \n",
    "    game_list[position]=user_placement\n",
    "    \n",
    "    return game_list"
   ]
  },
  {
   "cell_type": "code",
   "execution_count": 7,
   "id": "9812dc13",
   "metadata": {},
   "outputs": [
    {
     "name": "stdout",
     "output_type": "stream",
     "text": [
      "Type a string to place at position: egemen\n"
     ]
    },
    {
     "data": {
      "text/plain": [
       "[0, 'egemen', 2]"
      ]
     },
     "execution_count": 7,
     "metadata": {},
     "output_type": "execute_result"
    }
   ],
   "source": [
    "replacement_choice(game_list,1)"
   ]
  },
  {
   "cell_type": "code",
   "execution_count": 8,
   "id": "64ad73b0",
   "metadata": {},
   "outputs": [],
   "source": [
    "def gameon_choice():\n",
    "    \n",
    "    choice = 'wrong'\n",
    "    \n",
    "    while choice not in ['Y','N']:\n",
    "        \n",
    "        choice = input(\"Keep playing? (Y or N) \")\n",
    "        \n",
    "        if choice not in ['Y','N']:\n",
    "            print(\"Sorry, I dont understand, please choose Y or N\")\n",
    "            \n",
    "    if choice == 'Y':\n",
    "        return True\n",
    "    else:\n",
    "        return False"
   ]
  },
  {
   "cell_type": "code",
   "execution_count": 10,
   "id": "c23dd265",
   "metadata": {},
   "outputs": [
    {
     "name": "stdout",
     "output_type": "stream",
     "text": [
      "Keep playing? (Y or N) N\n"
     ]
    },
    {
     "data": {
      "text/plain": [
       "False"
      ]
     },
     "execution_count": 10,
     "metadata": {},
     "output_type": "execute_result"
    }
   ],
   "source": [
    "gameon_choice()"
   ]
  },
  {
   "cell_type": "code",
   "execution_count": 13,
   "id": "638122b9",
   "metadata": {},
   "outputs": [
    {
     "name": "stdout",
     "output_type": "stream",
     "text": [
      "Here is the current list: \n",
      "[0, 1, 2]\n",
      "Pick a position (0,1,2): \n",
      "Sorry, invalid choice\n",
      "Pick a position (0,1,2): 1\n",
      "Type a string to place at position: 2\n",
      "Here is the current list: \n",
      "[0, '2', 2]\n",
      "Keep playing? (Y or N) \n",
      "Sorry, I dont understand, please choose Y or N\n",
      "Keep playing? (Y or N) N\n"
     ]
    }
   ],
   "source": [
    "game_on = True\n",
    "game_list = [0,1,2]\n",
    "\n",
    "while game_on:\n",
    "    \n",
    "    display_game(game_list)\n",
    "    \n",
    "    position = position_choice()\n",
    "    \n",
    "    game_list = replacement_choice(game_list,position)\n",
    "    \n",
    "    display_game(game_list)\n",
    "    \n",
    "    game_on = gameon_choice()"
   ]
  },
  {
   "cell_type": "code",
   "execution_count": null,
   "id": "0bd07499",
   "metadata": {},
   "outputs": [],
   "source": []
  }
 ],
 "metadata": {
  "kernelspec": {
   "display_name": "Python 3 (ipykernel)",
   "language": "python",
   "name": "python3"
  },
  "language_info": {
   "codemirror_mode": {
    "name": "ipython",
    "version": 3
   },
   "file_extension": ".py",
   "mimetype": "text/x-python",
   "name": "python",
   "nbconvert_exporter": "python",
   "pygments_lexer": "ipython3",
   "version": "3.11.5"
  }
 },
 "nbformat": 4,
 "nbformat_minor": 5
}
